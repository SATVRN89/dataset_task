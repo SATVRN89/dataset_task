{
 "cells": [
  {
   "metadata": {},
   "cell_type": "markdown",
   "source": "# Dataset task",
   "id": "8a77807f92f26ee"
  },
  {
   "metadata": {},
   "cell_type": "markdown",
   "source": "## Explore the data",
   "id": "a1e2ca26e3c6902d"
  },
  {
   "metadata": {
    "ExecuteTime": {
     "end_time": "2024-12-31T19:31:06.216397Z",
     "start_time": "2024-12-31T19:31:06.204789Z"
    }
   },
   "cell_type": "code",
   "source": "import pandas as pd",
   "id": "fd41fdb8d018a706",
   "outputs": [],
   "execution_count": 1
  },
  {
   "metadata": {
    "ExecuteTime": {
     "end_time": "2024-12-31T19:31:06.242923Z",
     "start_time": "2024-12-31T19:31:06.221667Z"
    }
   },
   "cell_type": "code",
   "source": "df = pd.read_csv('C:/Users/ii/Desktop/SATVRN/study/Andrei/dataset/test_p.csv')",
   "id": "cf16c30d30e3b7c5",
   "outputs": [],
   "execution_count": 2
  },
  {
   "metadata": {
    "ExecuteTime": {
     "end_time": "2024-12-31T19:31:06.322428Z",
     "start_time": "2024-12-31T19:31:06.307262Z"
    }
   },
   "cell_type": "code",
   "source": [
    "# Check the data and types of columns\n",
    "df.info()"
   ],
   "id": "663708caa48b90b",
   "outputs": [
    {
     "name": "stdout",
     "output_type": "stream",
     "text": [
      "<class 'pandas.core.frame.DataFrame'>\n",
      "RangeIndex: 63 entries, 0 to 62\n",
      "Data columns (total 12 columns):\n",
      " #   Column                 Non-Null Count  Dtype \n",
      "---  ------                 --------------  ----- \n",
      " 0   user_id                63 non-null     int64 \n",
      " 1   order_id               63 non-null     int64 \n",
      " 2   product_id             63 non-null     int64 \n",
      " 3   product_name           63 non-null     object\n",
      " 4   category               63 non-null     object\n",
      " 5   price                  63 non-null     int64 \n",
      " 6   quantity               63 non-null     int64 \n",
      " 7   date                   63 non-null     object\n",
      " 8   country                63 non-null     object\n",
      " 9   payment_method         63 non-null     object\n",
      " 10  is_returning_customer  63 non-null     bool  \n",
      " 11  purchase_value         63 non-null     int64 \n",
      "dtypes: bool(1), int64(6), object(5)\n",
      "memory usage: 5.6+ KB\n"
     ]
    }
   ],
   "execution_count": 3
  },
  {
   "metadata": {
    "ExecuteTime": {
     "end_time": "2024-12-31T19:31:06.434986Z",
     "start_time": "2024-12-31T19:31:06.404480Z"
    }
   },
   "cell_type": "code",
   "source": [
    "# Check distribution of the numerical data\n",
    "df.describe()"
   ],
   "id": "1bddd5f26d7e847e",
   "outputs": [
    {
     "data": {
      "text/plain": [
       "         user_id     order_id  product_id        price   quantity  \\\n",
       "count  63.000000    63.000000   63.000000    63.000000  63.000000   \n",
       "mean    5.333333  1032.000000  111.047619   323.809524   1.047619   \n",
       "std     2.929274    18.330303    6.189034   319.038013   0.214669   \n",
       "min     1.000000  1001.000000  101.000000    20.000000   1.000000   \n",
       "25%     3.000000  1016.500000  106.000000   100.000000   1.000000   \n",
       "50%     5.000000  1032.000000  111.000000   200.000000   1.000000   \n",
       "75%     8.000000  1047.500000  116.000000   400.000000   1.000000   \n",
       "max    10.000000  1063.000000  123.000000  1200.000000   2.000000   \n",
       "\n",
       "       purchase_value  \n",
       "count       63.000000  \n",
       "mean       328.571429  \n",
       "std        316.354523  \n",
       "min         20.000000  \n",
       "25%        100.000000  \n",
       "50%        200.000000  \n",
       "75%        400.000000  \n",
       "max       1200.000000  "
      ],
      "text/html": [
       "<div>\n",
       "<style scoped>\n",
       "    .dataframe tbody tr th:only-of-type {\n",
       "        vertical-align: middle;\n",
       "    }\n",
       "\n",
       "    .dataframe tbody tr th {\n",
       "        vertical-align: top;\n",
       "    }\n",
       "\n",
       "    .dataframe thead th {\n",
       "        text-align: right;\n",
       "    }\n",
       "</style>\n",
       "<table border=\"1\" class=\"dataframe\">\n",
       "  <thead>\n",
       "    <tr style=\"text-align: right;\">\n",
       "      <th></th>\n",
       "      <th>user_id</th>\n",
       "      <th>order_id</th>\n",
       "      <th>product_id</th>\n",
       "      <th>price</th>\n",
       "      <th>quantity</th>\n",
       "      <th>purchase_value</th>\n",
       "    </tr>\n",
       "  </thead>\n",
       "  <tbody>\n",
       "    <tr>\n",
       "      <th>count</th>\n",
       "      <td>63.000000</td>\n",
       "      <td>63.000000</td>\n",
       "      <td>63.000000</td>\n",
       "      <td>63.000000</td>\n",
       "      <td>63.000000</td>\n",
       "      <td>63.000000</td>\n",
       "    </tr>\n",
       "    <tr>\n",
       "      <th>mean</th>\n",
       "      <td>5.333333</td>\n",
       "      <td>1032.000000</td>\n",
       "      <td>111.047619</td>\n",
       "      <td>323.809524</td>\n",
       "      <td>1.047619</td>\n",
       "      <td>328.571429</td>\n",
       "    </tr>\n",
       "    <tr>\n",
       "      <th>std</th>\n",
       "      <td>2.929274</td>\n",
       "      <td>18.330303</td>\n",
       "      <td>6.189034</td>\n",
       "      <td>319.038013</td>\n",
       "      <td>0.214669</td>\n",
       "      <td>316.354523</td>\n",
       "    </tr>\n",
       "    <tr>\n",
       "      <th>min</th>\n",
       "      <td>1.000000</td>\n",
       "      <td>1001.000000</td>\n",
       "      <td>101.000000</td>\n",
       "      <td>20.000000</td>\n",
       "      <td>1.000000</td>\n",
       "      <td>20.000000</td>\n",
       "    </tr>\n",
       "    <tr>\n",
       "      <th>25%</th>\n",
       "      <td>3.000000</td>\n",
       "      <td>1016.500000</td>\n",
       "      <td>106.000000</td>\n",
       "      <td>100.000000</td>\n",
       "      <td>1.000000</td>\n",
       "      <td>100.000000</td>\n",
       "    </tr>\n",
       "    <tr>\n",
       "      <th>50%</th>\n",
       "      <td>5.000000</td>\n",
       "      <td>1032.000000</td>\n",
       "      <td>111.000000</td>\n",
       "      <td>200.000000</td>\n",
       "      <td>1.000000</td>\n",
       "      <td>200.000000</td>\n",
       "    </tr>\n",
       "    <tr>\n",
       "      <th>75%</th>\n",
       "      <td>8.000000</td>\n",
       "      <td>1047.500000</td>\n",
       "      <td>116.000000</td>\n",
       "      <td>400.000000</td>\n",
       "      <td>1.000000</td>\n",
       "      <td>400.000000</td>\n",
       "    </tr>\n",
       "    <tr>\n",
       "      <th>max</th>\n",
       "      <td>10.000000</td>\n",
       "      <td>1063.000000</td>\n",
       "      <td>123.000000</td>\n",
       "      <td>1200.000000</td>\n",
       "      <td>2.000000</td>\n",
       "      <td>1200.000000</td>\n",
       "    </tr>\n",
       "  </tbody>\n",
       "</table>\n",
       "</div>"
      ]
     },
     "execution_count": 4,
     "metadata": {},
     "output_type": "execute_result"
    }
   ],
   "execution_count": 4
  },
  {
   "metadata": {
    "ExecuteTime": {
     "end_time": "2024-12-31T19:31:06.563426Z",
     "start_time": "2024-12-31T19:31:06.547682Z"
    }
   },
   "cell_type": "code",
   "source": "df.head(10)",
   "id": "f3f75fcc4a5fb1fe",
   "outputs": [
    {
     "data": {
      "text/plain": [
       "   user_id  order_id  product_id product_name     category  price  quantity  \\\n",
       "0        1      1001         101       Laptop  Electronics   1200         1   \n",
       "1        2      1002         102     Keyboard  Electronics     50         1   \n",
       "2        3      1003         103        Mouse  Electronics     20         1   \n",
       "3        4      1004         104   Headphones  Electronics    100         2   \n",
       "4        5      1005         105      Charger  Electronics     30         1   \n",
       "5        6      1006         106   Smartphone  Electronics    800         1   \n",
       "6        7      1007         107       Tablet  Electronics    400         1   \n",
       "7        8      1008         108      Speaker  Electronics    150         1   \n",
       "8        9      1009         109      Monitor  Electronics    250         1   \n",
       "9       10      1010         110       Webcam  Electronics     50         1   \n",
       "\n",
       "         date  country payment_method  is_returning_customer  purchase_value  \n",
       "0  2020-01-15      USA    Credit Card                  False            1200  \n",
       "1  2020-01-17   Canada     Debit Card                  False              50  \n",
       "2  2020-01-18      USA         PayPal                  False              20  \n",
       "3  2020-01-19       UK    Credit Card                  False             200  \n",
       "4  2020-01-20  Germany    Credit Card                  False              30  \n",
       "5  2020-01-21      USA    Credit Card                  False             800  \n",
       "6  2020-01-22   Canada     Debit Card                  False             400  \n",
       "7  2020-01-23      USA         PayPal                  False             150  \n",
       "8  2020-01-24       UK    Credit Card                  False             250  \n",
       "9  2020-01-25  Germany    Credit Card                  False              50  "
      ],
      "text/html": [
       "<div>\n",
       "<style scoped>\n",
       "    .dataframe tbody tr th:only-of-type {\n",
       "        vertical-align: middle;\n",
       "    }\n",
       "\n",
       "    .dataframe tbody tr th {\n",
       "        vertical-align: top;\n",
       "    }\n",
       "\n",
       "    .dataframe thead th {\n",
       "        text-align: right;\n",
       "    }\n",
       "</style>\n",
       "<table border=\"1\" class=\"dataframe\">\n",
       "  <thead>\n",
       "    <tr style=\"text-align: right;\">\n",
       "      <th></th>\n",
       "      <th>user_id</th>\n",
       "      <th>order_id</th>\n",
       "      <th>product_id</th>\n",
       "      <th>product_name</th>\n",
       "      <th>category</th>\n",
       "      <th>price</th>\n",
       "      <th>quantity</th>\n",
       "      <th>date</th>\n",
       "      <th>country</th>\n",
       "      <th>payment_method</th>\n",
       "      <th>is_returning_customer</th>\n",
       "      <th>purchase_value</th>\n",
       "    </tr>\n",
       "  </thead>\n",
       "  <tbody>\n",
       "    <tr>\n",
       "      <th>0</th>\n",
       "      <td>1</td>\n",
       "      <td>1001</td>\n",
       "      <td>101</td>\n",
       "      <td>Laptop</td>\n",
       "      <td>Electronics</td>\n",
       "      <td>1200</td>\n",
       "      <td>1</td>\n",
       "      <td>2020-01-15</td>\n",
       "      <td>USA</td>\n",
       "      <td>Credit Card</td>\n",
       "      <td>False</td>\n",
       "      <td>1200</td>\n",
       "    </tr>\n",
       "    <tr>\n",
       "      <th>1</th>\n",
       "      <td>2</td>\n",
       "      <td>1002</td>\n",
       "      <td>102</td>\n",
       "      <td>Keyboard</td>\n",
       "      <td>Electronics</td>\n",
       "      <td>50</td>\n",
       "      <td>1</td>\n",
       "      <td>2020-01-17</td>\n",
       "      <td>Canada</td>\n",
       "      <td>Debit Card</td>\n",
       "      <td>False</td>\n",
       "      <td>50</td>\n",
       "    </tr>\n",
       "    <tr>\n",
       "      <th>2</th>\n",
       "      <td>3</td>\n",
       "      <td>1003</td>\n",
       "      <td>103</td>\n",
       "      <td>Mouse</td>\n",
       "      <td>Electronics</td>\n",
       "      <td>20</td>\n",
       "      <td>1</td>\n",
       "      <td>2020-01-18</td>\n",
       "      <td>USA</td>\n",
       "      <td>PayPal</td>\n",
       "      <td>False</td>\n",
       "      <td>20</td>\n",
       "    </tr>\n",
       "    <tr>\n",
       "      <th>3</th>\n",
       "      <td>4</td>\n",
       "      <td>1004</td>\n",
       "      <td>104</td>\n",
       "      <td>Headphones</td>\n",
       "      <td>Electronics</td>\n",
       "      <td>100</td>\n",
       "      <td>2</td>\n",
       "      <td>2020-01-19</td>\n",
       "      <td>UK</td>\n",
       "      <td>Credit Card</td>\n",
       "      <td>False</td>\n",
       "      <td>200</td>\n",
       "    </tr>\n",
       "    <tr>\n",
       "      <th>4</th>\n",
       "      <td>5</td>\n",
       "      <td>1005</td>\n",
       "      <td>105</td>\n",
       "      <td>Charger</td>\n",
       "      <td>Electronics</td>\n",
       "      <td>30</td>\n",
       "      <td>1</td>\n",
       "      <td>2020-01-20</td>\n",
       "      <td>Germany</td>\n",
       "      <td>Credit Card</td>\n",
       "      <td>False</td>\n",
       "      <td>30</td>\n",
       "    </tr>\n",
       "    <tr>\n",
       "      <th>5</th>\n",
       "      <td>6</td>\n",
       "      <td>1006</td>\n",
       "      <td>106</td>\n",
       "      <td>Smartphone</td>\n",
       "      <td>Electronics</td>\n",
       "      <td>800</td>\n",
       "      <td>1</td>\n",
       "      <td>2020-01-21</td>\n",
       "      <td>USA</td>\n",
       "      <td>Credit Card</td>\n",
       "      <td>False</td>\n",
       "      <td>800</td>\n",
       "    </tr>\n",
       "    <tr>\n",
       "      <th>6</th>\n",
       "      <td>7</td>\n",
       "      <td>1007</td>\n",
       "      <td>107</td>\n",
       "      <td>Tablet</td>\n",
       "      <td>Electronics</td>\n",
       "      <td>400</td>\n",
       "      <td>1</td>\n",
       "      <td>2020-01-22</td>\n",
       "      <td>Canada</td>\n",
       "      <td>Debit Card</td>\n",
       "      <td>False</td>\n",
       "      <td>400</td>\n",
       "    </tr>\n",
       "    <tr>\n",
       "      <th>7</th>\n",
       "      <td>8</td>\n",
       "      <td>1008</td>\n",
       "      <td>108</td>\n",
       "      <td>Speaker</td>\n",
       "      <td>Electronics</td>\n",
       "      <td>150</td>\n",
       "      <td>1</td>\n",
       "      <td>2020-01-23</td>\n",
       "      <td>USA</td>\n",
       "      <td>PayPal</td>\n",
       "      <td>False</td>\n",
       "      <td>150</td>\n",
       "    </tr>\n",
       "    <tr>\n",
       "      <th>8</th>\n",
       "      <td>9</td>\n",
       "      <td>1009</td>\n",
       "      <td>109</td>\n",
       "      <td>Monitor</td>\n",
       "      <td>Electronics</td>\n",
       "      <td>250</td>\n",
       "      <td>1</td>\n",
       "      <td>2020-01-24</td>\n",
       "      <td>UK</td>\n",
       "      <td>Credit Card</td>\n",
       "      <td>False</td>\n",
       "      <td>250</td>\n",
       "    </tr>\n",
       "    <tr>\n",
       "      <th>9</th>\n",
       "      <td>10</td>\n",
       "      <td>1010</td>\n",
       "      <td>110</td>\n",
       "      <td>Webcam</td>\n",
       "      <td>Electronics</td>\n",
       "      <td>50</td>\n",
       "      <td>1</td>\n",
       "      <td>2020-01-25</td>\n",
       "      <td>Germany</td>\n",
       "      <td>Credit Card</td>\n",
       "      <td>False</td>\n",
       "      <td>50</td>\n",
       "    </tr>\n",
       "  </tbody>\n",
       "</table>\n",
       "</div>"
      ]
     },
     "execution_count": 5,
     "metadata": {},
     "output_type": "execute_result"
    }
   ],
   "execution_count": 5
  },
  {
   "metadata": {
    "ExecuteTime": {
     "end_time": "2024-12-31T19:31:06.665827Z",
     "start_time": "2024-12-31T19:31:06.653536Z"
    }
   },
   "cell_type": "code",
   "source": [
    "# Show duplicates if exist\n",
    "df[df.duplicated() == True]"
   ],
   "id": "1d30baccc8b69fee",
   "outputs": [
    {
     "data": {
      "text/plain": [
       "Empty DataFrame\n",
       "Columns: [user_id, order_id, product_id, product_name, category, price, quantity, date, country, payment_method, is_returning_customer, purchase_value]\n",
       "Index: []"
      ],
      "text/html": [
       "<div>\n",
       "<style scoped>\n",
       "    .dataframe tbody tr th:only-of-type {\n",
       "        vertical-align: middle;\n",
       "    }\n",
       "\n",
       "    .dataframe tbody tr th {\n",
       "        vertical-align: top;\n",
       "    }\n",
       "\n",
       "    .dataframe thead th {\n",
       "        text-align: right;\n",
       "    }\n",
       "</style>\n",
       "<table border=\"1\" class=\"dataframe\">\n",
       "  <thead>\n",
       "    <tr style=\"text-align: right;\">\n",
       "      <th></th>\n",
       "      <th>user_id</th>\n",
       "      <th>order_id</th>\n",
       "      <th>product_id</th>\n",
       "      <th>product_name</th>\n",
       "      <th>category</th>\n",
       "      <th>price</th>\n",
       "      <th>quantity</th>\n",
       "      <th>date</th>\n",
       "      <th>country</th>\n",
       "      <th>payment_method</th>\n",
       "      <th>is_returning_customer</th>\n",
       "      <th>purchase_value</th>\n",
       "    </tr>\n",
       "  </thead>\n",
       "  <tbody>\n",
       "  </tbody>\n",
       "</table>\n",
       "</div>"
      ]
     },
     "execution_count": 6,
     "metadata": {},
     "output_type": "execute_result"
    }
   ],
   "execution_count": 6
  },
  {
   "metadata": {},
   "cell_type": "markdown",
   "source": "### Calculate the average cost of order by month for the last 3 years",
   "id": "596445111d3457e7"
  },
  {
   "metadata": {
    "ExecuteTime": {
     "end_time": "2024-12-31T19:31:06.804327Z",
     "start_time": "2024-12-31T19:31:06.795971Z"
    }
   },
   "cell_type": "code",
   "source": [
    "# Convert a column with date to the datetime type\n",
    "df['date'] = pd.to_datetime(df['date'])"
   ],
   "id": "7e45a7cad42f2905",
   "outputs": [],
   "execution_count": 7
  },
  {
   "metadata": {
    "ExecuteTime": {
     "end_time": "2024-12-31T19:31:06.897743Z",
     "start_time": "2024-12-31T19:31:06.887465Z"
    }
   },
   "cell_type": "code",
   "source": [
    "# Create a list with the considered period of last 3 years\n",
    "max_year = max(df['date'].dt.year)\n",
    "min_year = max_year - 2\n",
    "year_list = list(range(min_year, max_year+1))\n",
    "year_list"
   ],
   "id": "72a3125f1900c48b",
   "outputs": [
    {
     "data": {
      "text/plain": [
       "[2018, 2019, 2020]"
      ]
     },
     "execution_count": 8,
     "metadata": {},
     "output_type": "execute_result"
    }
   ],
   "execution_count": 8
  },
  {
   "metadata": {
    "ExecuteTime": {
     "end_time": "2024-12-31T19:31:07.026717Z",
     "start_time": "2024-12-31T19:31:07.010511Z"
    }
   },
   "cell_type": "code",
   "source": [
    "# Calculate the average cost of order by month for the last 3 years\n",
    "yearly_avg_cost = (df.pivot_table(index=df['date'].dt.strftime('%b'), #shorten the names of months\n",
    "                                  columns=df['date'].dt.year, \n",
    "                                  values='purchase_value',\n",
    "                                  aggfunc='mean')\n",
    "                   )\n",
    "\n",
    "month_order = ['Jan', 'Feb', 'Mar', 'Apr', 'May', 'Jun',\n",
    "               'Jul', 'Aug', 'Sep', 'Oct', 'Nov', 'Dec']\n",
    "\n",
    "yearly_avg_cost = yearly_avg_cost.reindex(index=month_order, columns=year_list)\n",
    "\n",
    "yearly_avg_cost.index.names = ['month/year']\n",
    "\n",
    "yearly_avg_cost"
   ],
   "id": "c579830523303cbe",
   "outputs": [
    {
     "data": {
      "text/plain": [
       "date        2018  2019   2020\n",
       "month/year                   \n",
       "Jan          NaN   NaN  315.0\n",
       "Feb          NaN   NaN  315.0\n",
       "Mar          NaN   NaN  315.0\n",
       "Apr          NaN   NaN  365.0\n",
       "May          NaN   NaN  365.0\n",
       "Jun          NaN   NaN  365.0\n",
       "Jul          NaN   NaN  100.0\n",
       "Aug          NaN   NaN    NaN\n",
       "Sep          NaN   NaN    NaN\n",
       "Oct          NaN   NaN    NaN\n",
       "Nov          NaN   NaN    NaN\n",
       "Dec          NaN   NaN    NaN"
      ],
      "text/html": [
       "<div>\n",
       "<style scoped>\n",
       "    .dataframe tbody tr th:only-of-type {\n",
       "        vertical-align: middle;\n",
       "    }\n",
       "\n",
       "    .dataframe tbody tr th {\n",
       "        vertical-align: top;\n",
       "    }\n",
       "\n",
       "    .dataframe thead th {\n",
       "        text-align: right;\n",
       "    }\n",
       "</style>\n",
       "<table border=\"1\" class=\"dataframe\">\n",
       "  <thead>\n",
       "    <tr style=\"text-align: right;\">\n",
       "      <th>date</th>\n",
       "      <th>2018</th>\n",
       "      <th>2019</th>\n",
       "      <th>2020</th>\n",
       "    </tr>\n",
       "    <tr>\n",
       "      <th>month/year</th>\n",
       "      <th></th>\n",
       "      <th></th>\n",
       "      <th></th>\n",
       "    </tr>\n",
       "  </thead>\n",
       "  <tbody>\n",
       "    <tr>\n",
       "      <th>Jan</th>\n",
       "      <td>NaN</td>\n",
       "      <td>NaN</td>\n",
       "      <td>315.0</td>\n",
       "    </tr>\n",
       "    <tr>\n",
       "      <th>Feb</th>\n",
       "      <td>NaN</td>\n",
       "      <td>NaN</td>\n",
       "      <td>315.0</td>\n",
       "    </tr>\n",
       "    <tr>\n",
       "      <th>Mar</th>\n",
       "      <td>NaN</td>\n",
       "      <td>NaN</td>\n",
       "      <td>315.0</td>\n",
       "    </tr>\n",
       "    <tr>\n",
       "      <th>Apr</th>\n",
       "      <td>NaN</td>\n",
       "      <td>NaN</td>\n",
       "      <td>365.0</td>\n",
       "    </tr>\n",
       "    <tr>\n",
       "      <th>May</th>\n",
       "      <td>NaN</td>\n",
       "      <td>NaN</td>\n",
       "      <td>365.0</td>\n",
       "    </tr>\n",
       "    <tr>\n",
       "      <th>Jun</th>\n",
       "      <td>NaN</td>\n",
       "      <td>NaN</td>\n",
       "      <td>365.0</td>\n",
       "    </tr>\n",
       "    <tr>\n",
       "      <th>Jul</th>\n",
       "      <td>NaN</td>\n",
       "      <td>NaN</td>\n",
       "      <td>100.0</td>\n",
       "    </tr>\n",
       "    <tr>\n",
       "      <th>Aug</th>\n",
       "      <td>NaN</td>\n",
       "      <td>NaN</td>\n",
       "      <td>NaN</td>\n",
       "    </tr>\n",
       "    <tr>\n",
       "      <th>Sep</th>\n",
       "      <td>NaN</td>\n",
       "      <td>NaN</td>\n",
       "      <td>NaN</td>\n",
       "    </tr>\n",
       "    <tr>\n",
       "      <th>Oct</th>\n",
       "      <td>NaN</td>\n",
       "      <td>NaN</td>\n",
       "      <td>NaN</td>\n",
       "    </tr>\n",
       "    <tr>\n",
       "      <th>Nov</th>\n",
       "      <td>NaN</td>\n",
       "      <td>NaN</td>\n",
       "      <td>NaN</td>\n",
       "    </tr>\n",
       "    <tr>\n",
       "      <th>Dec</th>\n",
       "      <td>NaN</td>\n",
       "      <td>NaN</td>\n",
       "      <td>NaN</td>\n",
       "    </tr>\n",
       "  </tbody>\n",
       "</table>\n",
       "</div>"
      ]
     },
     "execution_count": 9,
     "metadata": {},
     "output_type": "execute_result"
    }
   ],
   "execution_count": 9
  },
  {
   "metadata": {},
   "cell_type": "markdown",
   "source": "### Divide users by three groups according to total purchases: low, medium and high",
   "id": "793fb3fc4b8a56b1"
  },
  {
   "metadata": {
    "ExecuteTime": {
     "end_time": "2024-12-31T19:31:07.106082Z",
     "start_time": "2024-12-31T19:31:07.091431Z"
    }
   },
   "cell_type": "code",
   "source": "labels = ['low', 'medium', 'high']   ",
   "id": "a97b30df4ee8fe41",
   "outputs": [],
   "execution_count": 10
  },
  {
   "metadata": {
    "ExecuteTime": {
     "end_time": "2024-12-31T19:31:07.197972Z",
     "start_time": "2024-12-31T19:31:07.166925Z"
    }
   },
   "cell_type": "code",
   "source": [
    "# Create a dataframe for the region of America\n",
    "america_region = ['USA', 'Canada']\n",
    "\n",
    "df_america = df[(df['country'].isin(america_region))]\n",
    "\n",
    "df_america.describe()"
   ],
   "id": "c9f8c4f1c3044ed1",
   "outputs": [
    {
     "data": {
      "text/plain": [
       "         user_id     order_id  product_id        price  quantity  \\\n",
       "count  39.000000    39.000000   39.000000    39.000000      39.0   \n",
       "mean    4.307692  1032.000000  110.461538   401.538462       1.0   \n",
       "std     2.657203    18.970892    6.455704   365.380396       0.0   \n",
       "min     1.000000  1001.000000  101.000000    20.000000       1.0   \n",
       "25%     2.000000  1016.500000  106.000000   150.000000       1.0   \n",
       "50%     3.000000  1032.000000  111.000000   300.000000       1.0   \n",
       "75%     7.000000  1047.500000  116.000000   500.000000       1.0   \n",
       "max     8.000000  1063.000000  123.000000  1200.000000       1.0   \n",
       "\n",
       "       purchase_value  \n",
       "count       39.000000  \n",
       "mean       401.538462  \n",
       "std        365.380396  \n",
       "min         20.000000  \n",
       "25%        150.000000  \n",
       "50%        300.000000  \n",
       "75%        500.000000  \n",
       "max       1200.000000  "
      ],
      "text/html": [
       "<div>\n",
       "<style scoped>\n",
       "    .dataframe tbody tr th:only-of-type {\n",
       "        vertical-align: middle;\n",
       "    }\n",
       "\n",
       "    .dataframe tbody tr th {\n",
       "        vertical-align: top;\n",
       "    }\n",
       "\n",
       "    .dataframe thead th {\n",
       "        text-align: right;\n",
       "    }\n",
       "</style>\n",
       "<table border=\"1\" class=\"dataframe\">\n",
       "  <thead>\n",
       "    <tr style=\"text-align: right;\">\n",
       "      <th></th>\n",
       "      <th>user_id</th>\n",
       "      <th>order_id</th>\n",
       "      <th>product_id</th>\n",
       "      <th>price</th>\n",
       "      <th>quantity</th>\n",
       "      <th>purchase_value</th>\n",
       "    </tr>\n",
       "  </thead>\n",
       "  <tbody>\n",
       "    <tr>\n",
       "      <th>count</th>\n",
       "      <td>39.000000</td>\n",
       "      <td>39.000000</td>\n",
       "      <td>39.000000</td>\n",
       "      <td>39.000000</td>\n",
       "      <td>39.0</td>\n",
       "      <td>39.000000</td>\n",
       "    </tr>\n",
       "    <tr>\n",
       "      <th>mean</th>\n",
       "      <td>4.307692</td>\n",
       "      <td>1032.000000</td>\n",
       "      <td>110.461538</td>\n",
       "      <td>401.538462</td>\n",
       "      <td>1.0</td>\n",
       "      <td>401.538462</td>\n",
       "    </tr>\n",
       "    <tr>\n",
       "      <th>std</th>\n",
       "      <td>2.657203</td>\n",
       "      <td>18.970892</td>\n",
       "      <td>6.455704</td>\n",
       "      <td>365.380396</td>\n",
       "      <td>0.0</td>\n",
       "      <td>365.380396</td>\n",
       "    </tr>\n",
       "    <tr>\n",
       "      <th>min</th>\n",
       "      <td>1.000000</td>\n",
       "      <td>1001.000000</td>\n",
       "      <td>101.000000</td>\n",
       "      <td>20.000000</td>\n",
       "      <td>1.0</td>\n",
       "      <td>20.000000</td>\n",
       "    </tr>\n",
       "    <tr>\n",
       "      <th>25%</th>\n",
       "      <td>2.000000</td>\n",
       "      <td>1016.500000</td>\n",
       "      <td>106.000000</td>\n",
       "      <td>150.000000</td>\n",
       "      <td>1.0</td>\n",
       "      <td>150.000000</td>\n",
       "    </tr>\n",
       "    <tr>\n",
       "      <th>50%</th>\n",
       "      <td>3.000000</td>\n",
       "      <td>1032.000000</td>\n",
       "      <td>111.000000</td>\n",
       "      <td>300.000000</td>\n",
       "      <td>1.0</td>\n",
       "      <td>300.000000</td>\n",
       "    </tr>\n",
       "    <tr>\n",
       "      <th>75%</th>\n",
       "      <td>7.000000</td>\n",
       "      <td>1047.500000</td>\n",
       "      <td>116.000000</td>\n",
       "      <td>500.000000</td>\n",
       "      <td>1.0</td>\n",
       "      <td>500.000000</td>\n",
       "    </tr>\n",
       "    <tr>\n",
       "      <th>max</th>\n",
       "      <td>8.000000</td>\n",
       "      <td>1063.000000</td>\n",
       "      <td>123.000000</td>\n",
       "      <td>1200.000000</td>\n",
       "      <td>1.0</td>\n",
       "      <td>1200.000000</td>\n",
       "    </tr>\n",
       "  </tbody>\n",
       "</table>\n",
       "</div>"
      ]
     },
     "execution_count": 11,
     "metadata": {},
     "output_type": "execute_result"
    }
   ],
   "execution_count": 11
  },
  {
   "metadata": {
    "ExecuteTime": {
     "end_time": "2024-12-31T19:31:07.273266Z",
     "start_time": "2024-12-31T19:31:07.258610Z"
    }
   },
   "cell_type": "code",
   "source": [
    "# Divide the customers into the three groups by purchase_value according to the distribution of the values\n",
    "bins_am = [0, 150, 500, 1200]\n",
    "\n",
    "df_america['us_group'] = pd.cut(df_america['purchase_value'], bins=bins_am, labels=labels)\n",
    "\n",
    "df_america.head()"
   ],
   "id": "591288aeca74e04e",
   "outputs": [
    {
     "data": {
      "text/plain": [
       "   user_id  order_id  product_id product_name     category  price  quantity  \\\n",
       "0        1      1001         101       Laptop  Electronics   1200         1   \n",
       "1        2      1002         102     Keyboard  Electronics     50         1   \n",
       "2        3      1003         103        Mouse  Electronics     20         1   \n",
       "5        6      1006         106   Smartphone  Electronics    800         1   \n",
       "6        7      1007         107       Tablet  Electronics    400         1   \n",
       "\n",
       "        date country payment_method  is_returning_customer  purchase_value  \\\n",
       "0 2020-01-15     USA    Credit Card                  False            1200   \n",
       "1 2020-01-17  Canada     Debit Card                  False              50   \n",
       "2 2020-01-18     USA         PayPal                  False              20   \n",
       "5 2020-01-21     USA    Credit Card                  False             800   \n",
       "6 2020-01-22  Canada     Debit Card                  False             400   \n",
       "\n",
       "  us_group  \n",
       "0     high  \n",
       "1      low  \n",
       "2      low  \n",
       "5     high  \n",
       "6   medium  "
      ],
      "text/html": [
       "<div>\n",
       "<style scoped>\n",
       "    .dataframe tbody tr th:only-of-type {\n",
       "        vertical-align: middle;\n",
       "    }\n",
       "\n",
       "    .dataframe tbody tr th {\n",
       "        vertical-align: top;\n",
       "    }\n",
       "\n",
       "    .dataframe thead th {\n",
       "        text-align: right;\n",
       "    }\n",
       "</style>\n",
       "<table border=\"1\" class=\"dataframe\">\n",
       "  <thead>\n",
       "    <tr style=\"text-align: right;\">\n",
       "      <th></th>\n",
       "      <th>user_id</th>\n",
       "      <th>order_id</th>\n",
       "      <th>product_id</th>\n",
       "      <th>product_name</th>\n",
       "      <th>category</th>\n",
       "      <th>price</th>\n",
       "      <th>quantity</th>\n",
       "      <th>date</th>\n",
       "      <th>country</th>\n",
       "      <th>payment_method</th>\n",
       "      <th>is_returning_customer</th>\n",
       "      <th>purchase_value</th>\n",
       "      <th>us_group</th>\n",
       "    </tr>\n",
       "  </thead>\n",
       "  <tbody>\n",
       "    <tr>\n",
       "      <th>0</th>\n",
       "      <td>1</td>\n",
       "      <td>1001</td>\n",
       "      <td>101</td>\n",
       "      <td>Laptop</td>\n",
       "      <td>Electronics</td>\n",
       "      <td>1200</td>\n",
       "      <td>1</td>\n",
       "      <td>2020-01-15</td>\n",
       "      <td>USA</td>\n",
       "      <td>Credit Card</td>\n",
       "      <td>False</td>\n",
       "      <td>1200</td>\n",
       "      <td>high</td>\n",
       "    </tr>\n",
       "    <tr>\n",
       "      <th>1</th>\n",
       "      <td>2</td>\n",
       "      <td>1002</td>\n",
       "      <td>102</td>\n",
       "      <td>Keyboard</td>\n",
       "      <td>Electronics</td>\n",
       "      <td>50</td>\n",
       "      <td>1</td>\n",
       "      <td>2020-01-17</td>\n",
       "      <td>Canada</td>\n",
       "      <td>Debit Card</td>\n",
       "      <td>False</td>\n",
       "      <td>50</td>\n",
       "      <td>low</td>\n",
       "    </tr>\n",
       "    <tr>\n",
       "      <th>2</th>\n",
       "      <td>3</td>\n",
       "      <td>1003</td>\n",
       "      <td>103</td>\n",
       "      <td>Mouse</td>\n",
       "      <td>Electronics</td>\n",
       "      <td>20</td>\n",
       "      <td>1</td>\n",
       "      <td>2020-01-18</td>\n",
       "      <td>USA</td>\n",
       "      <td>PayPal</td>\n",
       "      <td>False</td>\n",
       "      <td>20</td>\n",
       "      <td>low</td>\n",
       "    </tr>\n",
       "    <tr>\n",
       "      <th>5</th>\n",
       "      <td>6</td>\n",
       "      <td>1006</td>\n",
       "      <td>106</td>\n",
       "      <td>Smartphone</td>\n",
       "      <td>Electronics</td>\n",
       "      <td>800</td>\n",
       "      <td>1</td>\n",
       "      <td>2020-01-21</td>\n",
       "      <td>USA</td>\n",
       "      <td>Credit Card</td>\n",
       "      <td>False</td>\n",
       "      <td>800</td>\n",
       "      <td>high</td>\n",
       "    </tr>\n",
       "    <tr>\n",
       "      <th>6</th>\n",
       "      <td>7</td>\n",
       "      <td>1007</td>\n",
       "      <td>107</td>\n",
       "      <td>Tablet</td>\n",
       "      <td>Electronics</td>\n",
       "      <td>400</td>\n",
       "      <td>1</td>\n",
       "      <td>2020-01-22</td>\n",
       "      <td>Canada</td>\n",
       "      <td>Debit Card</td>\n",
       "      <td>False</td>\n",
       "      <td>400</td>\n",
       "      <td>medium</td>\n",
       "    </tr>\n",
       "  </tbody>\n",
       "</table>\n",
       "</div>"
      ]
     },
     "execution_count": 12,
     "metadata": {},
     "output_type": "execute_result"
    }
   ],
   "execution_count": 12
  },
  {
   "metadata": {
    "ExecuteTime": {
     "end_time": "2024-12-31T19:31:07.347648Z",
     "start_time": "2024-12-31T19:31:07.331703Z"
    }
   },
   "cell_type": "code",
   "source": [
    "# Create a dataframe for the region of Europe\n",
    "df_europe = df[~(df['country'].isin(america_region))]\n",
    "\n",
    "df_europe.describe()"
   ],
   "id": "726a0713b5ba2313",
   "outputs": [
    {
     "data": {
      "text/plain": [
       "         user_id    order_id  product_id       price   quantity  \\\n",
       "count  24.000000    24.00000   24.000000   24.000000  24.000000   \n",
       "mean    7.000000  1032.00000  112.000000  197.500000   1.125000   \n",
       "std     2.604344    17.63889    5.733199  164.058579   0.337832   \n",
       "min     4.000000  1004.00000  104.000000   30.000000   1.000000   \n",
       "25%     4.750000  1018.00000  108.000000   87.500000   1.000000   \n",
       "50%     7.000000  1032.00000  112.000000  125.000000   1.000000   \n",
       "75%     9.250000  1046.00000  116.000000  287.500000   1.000000   \n",
       "max    10.000000  1060.00000  120.000000  500.000000   2.000000   \n",
       "\n",
       "       purchase_value  \n",
       "count        24.00000  \n",
       "mean        210.00000  \n",
       "std         159.72803  \n",
       "min          30.00000  \n",
       "25%          87.50000  \n",
       "50%         175.00000  \n",
       "75%         287.50000  \n",
       "max         500.00000  "
      ],
      "text/html": [
       "<div>\n",
       "<style scoped>\n",
       "    .dataframe tbody tr th:only-of-type {\n",
       "        vertical-align: middle;\n",
       "    }\n",
       "\n",
       "    .dataframe tbody tr th {\n",
       "        vertical-align: top;\n",
       "    }\n",
       "\n",
       "    .dataframe thead th {\n",
       "        text-align: right;\n",
       "    }\n",
       "</style>\n",
       "<table border=\"1\" class=\"dataframe\">\n",
       "  <thead>\n",
       "    <tr style=\"text-align: right;\">\n",
       "      <th></th>\n",
       "      <th>user_id</th>\n",
       "      <th>order_id</th>\n",
       "      <th>product_id</th>\n",
       "      <th>price</th>\n",
       "      <th>quantity</th>\n",
       "      <th>purchase_value</th>\n",
       "    </tr>\n",
       "  </thead>\n",
       "  <tbody>\n",
       "    <tr>\n",
       "      <th>count</th>\n",
       "      <td>24.000000</td>\n",
       "      <td>24.00000</td>\n",
       "      <td>24.000000</td>\n",
       "      <td>24.000000</td>\n",
       "      <td>24.000000</td>\n",
       "      <td>24.00000</td>\n",
       "    </tr>\n",
       "    <tr>\n",
       "      <th>mean</th>\n",
       "      <td>7.000000</td>\n",
       "      <td>1032.00000</td>\n",
       "      <td>112.000000</td>\n",
       "      <td>197.500000</td>\n",
       "      <td>1.125000</td>\n",
       "      <td>210.00000</td>\n",
       "    </tr>\n",
       "    <tr>\n",
       "      <th>std</th>\n",
       "      <td>2.604344</td>\n",
       "      <td>17.63889</td>\n",
       "      <td>5.733199</td>\n",
       "      <td>164.058579</td>\n",
       "      <td>0.337832</td>\n",
       "      <td>159.72803</td>\n",
       "    </tr>\n",
       "    <tr>\n",
       "      <th>min</th>\n",
       "      <td>4.000000</td>\n",
       "      <td>1004.00000</td>\n",
       "      <td>104.000000</td>\n",
       "      <td>30.000000</td>\n",
       "      <td>1.000000</td>\n",
       "      <td>30.00000</td>\n",
       "    </tr>\n",
       "    <tr>\n",
       "      <th>25%</th>\n",
       "      <td>4.750000</td>\n",
       "      <td>1018.00000</td>\n",
       "      <td>108.000000</td>\n",
       "      <td>87.500000</td>\n",
       "      <td>1.000000</td>\n",
       "      <td>87.50000</td>\n",
       "    </tr>\n",
       "    <tr>\n",
       "      <th>50%</th>\n",
       "      <td>7.000000</td>\n",
       "      <td>1032.00000</td>\n",
       "      <td>112.000000</td>\n",
       "      <td>125.000000</td>\n",
       "      <td>1.000000</td>\n",
       "      <td>175.00000</td>\n",
       "    </tr>\n",
       "    <tr>\n",
       "      <th>75%</th>\n",
       "      <td>9.250000</td>\n",
       "      <td>1046.00000</td>\n",
       "      <td>116.000000</td>\n",
       "      <td>287.500000</td>\n",
       "      <td>1.000000</td>\n",
       "      <td>287.50000</td>\n",
       "    </tr>\n",
       "    <tr>\n",
       "      <th>max</th>\n",
       "      <td>10.000000</td>\n",
       "      <td>1060.00000</td>\n",
       "      <td>120.000000</td>\n",
       "      <td>500.000000</td>\n",
       "      <td>2.000000</td>\n",
       "      <td>500.00000</td>\n",
       "    </tr>\n",
       "  </tbody>\n",
       "</table>\n",
       "</div>"
      ]
     },
     "execution_count": 13,
     "metadata": {},
     "output_type": "execute_result"
    }
   ],
   "execution_count": 13
  },
  {
   "metadata": {
    "ExecuteTime": {
     "end_time": "2024-12-31T19:31:07.531003Z",
     "start_time": "2024-12-31T19:31:07.504531Z"
    }
   },
   "cell_type": "code",
   "source": [
    "# Divide the customers into the three groups by purchase_value according to the distribution of the values\n",
    "bins_eu = [0, 90, 290, 500]\n",
    "\n",
    "df_europe['eu_group'] = pd.cut(df['purchase_value'], bins=bins_eu, labels=labels)\n",
    "\n",
    "df_europe.head()"
   ],
   "id": "9ee7614befed73fc",
   "outputs": [
    {
     "data": {
      "text/plain": [
       "    user_id  order_id  product_id product_name     category  price  quantity  \\\n",
       "3         4      1004         104   Headphones  Electronics    100         2   \n",
       "4         5      1005         105      Charger  Electronics     30         1   \n",
       "8         9      1009         109      Monitor  Electronics    250         1   \n",
       "9        10      1010         110       Webcam  Electronics     50         1   \n",
       "13        4      1014         104   Headphones  Electronics    100         2   \n",
       "\n",
       "         date  country payment_method  is_returning_customer  purchase_value  \\\n",
       "3  2020-01-19       UK    Credit Card                  False             200   \n",
       "4  2020-01-20  Germany    Credit Card                  False              30   \n",
       "8  2020-01-24       UK    Credit Card                  False             250   \n",
       "9  2020-01-25  Germany    Credit Card                  False              50   \n",
       "13 2020-02-19       UK    Credit Card                   True             200   \n",
       "\n",
       "   eu_group  \n",
       "3    medium  \n",
       "4       low  \n",
       "8    medium  \n",
       "9       low  \n",
       "13   medium  "
      ],
      "text/html": [
       "<div>\n",
       "<style scoped>\n",
       "    .dataframe tbody tr th:only-of-type {\n",
       "        vertical-align: middle;\n",
       "    }\n",
       "\n",
       "    .dataframe tbody tr th {\n",
       "        vertical-align: top;\n",
       "    }\n",
       "\n",
       "    .dataframe thead th {\n",
       "        text-align: right;\n",
       "    }\n",
       "</style>\n",
       "<table border=\"1\" class=\"dataframe\">\n",
       "  <thead>\n",
       "    <tr style=\"text-align: right;\">\n",
       "      <th></th>\n",
       "      <th>user_id</th>\n",
       "      <th>order_id</th>\n",
       "      <th>product_id</th>\n",
       "      <th>product_name</th>\n",
       "      <th>category</th>\n",
       "      <th>price</th>\n",
       "      <th>quantity</th>\n",
       "      <th>date</th>\n",
       "      <th>country</th>\n",
       "      <th>payment_method</th>\n",
       "      <th>is_returning_customer</th>\n",
       "      <th>purchase_value</th>\n",
       "      <th>eu_group</th>\n",
       "    </tr>\n",
       "  </thead>\n",
       "  <tbody>\n",
       "    <tr>\n",
       "      <th>3</th>\n",
       "      <td>4</td>\n",
       "      <td>1004</td>\n",
       "      <td>104</td>\n",
       "      <td>Headphones</td>\n",
       "      <td>Electronics</td>\n",
       "      <td>100</td>\n",
       "      <td>2</td>\n",
       "      <td>2020-01-19</td>\n",
       "      <td>UK</td>\n",
       "      <td>Credit Card</td>\n",
       "      <td>False</td>\n",
       "      <td>200</td>\n",
       "      <td>medium</td>\n",
       "    </tr>\n",
       "    <tr>\n",
       "      <th>4</th>\n",
       "      <td>5</td>\n",
       "      <td>1005</td>\n",
       "      <td>105</td>\n",
       "      <td>Charger</td>\n",
       "      <td>Electronics</td>\n",
       "      <td>30</td>\n",
       "      <td>1</td>\n",
       "      <td>2020-01-20</td>\n",
       "      <td>Germany</td>\n",
       "      <td>Credit Card</td>\n",
       "      <td>False</td>\n",
       "      <td>30</td>\n",
       "      <td>low</td>\n",
       "    </tr>\n",
       "    <tr>\n",
       "      <th>8</th>\n",
       "      <td>9</td>\n",
       "      <td>1009</td>\n",
       "      <td>109</td>\n",
       "      <td>Monitor</td>\n",
       "      <td>Electronics</td>\n",
       "      <td>250</td>\n",
       "      <td>1</td>\n",
       "      <td>2020-01-24</td>\n",
       "      <td>UK</td>\n",
       "      <td>Credit Card</td>\n",
       "      <td>False</td>\n",
       "      <td>250</td>\n",
       "      <td>medium</td>\n",
       "    </tr>\n",
       "    <tr>\n",
       "      <th>9</th>\n",
       "      <td>10</td>\n",
       "      <td>1010</td>\n",
       "      <td>110</td>\n",
       "      <td>Webcam</td>\n",
       "      <td>Electronics</td>\n",
       "      <td>50</td>\n",
       "      <td>1</td>\n",
       "      <td>2020-01-25</td>\n",
       "      <td>Germany</td>\n",
       "      <td>Credit Card</td>\n",
       "      <td>False</td>\n",
       "      <td>50</td>\n",
       "      <td>low</td>\n",
       "    </tr>\n",
       "    <tr>\n",
       "      <th>13</th>\n",
       "      <td>4</td>\n",
       "      <td>1014</td>\n",
       "      <td>104</td>\n",
       "      <td>Headphones</td>\n",
       "      <td>Electronics</td>\n",
       "      <td>100</td>\n",
       "      <td>2</td>\n",
       "      <td>2020-02-19</td>\n",
       "      <td>UK</td>\n",
       "      <td>Credit Card</td>\n",
       "      <td>True</td>\n",
       "      <td>200</td>\n",
       "      <td>medium</td>\n",
       "    </tr>\n",
       "  </tbody>\n",
       "</table>\n",
       "</div>"
      ]
     },
     "execution_count": 14,
     "metadata": {},
     "output_type": "execute_result"
    }
   ],
   "execution_count": 14
  },
  {
   "metadata": {},
   "cell_type": "markdown",
   "source": "### Analyze how the number of orders of returning customers per quarter has changed in the last 3 years",
   "id": "27cb16ec236480aa"
  },
  {
   "metadata": {
    "ExecuteTime": {
     "end_time": "2024-12-31T19:31:07.651547Z",
     "start_time": "2024-12-31T19:31:07.633227Z"
    }
   },
   "cell_type": "code",
   "source": [
    "# Create a pivot table to show the change in the number of orders of returning customers \n",
    "quarter_list = [1, 2, 3, 4]\n",
    "\n",
    "multi_index = pd.MultiIndex.from_product([year_list, quarter_list], names=['year', 'quarter'])\n",
    "\n",
    "df_rep_cust = df[df['is_returning_customer'] == True]\n",
    "df_rep_cust['quarter'] = df_rep_cust['date'].dt.quarter\n",
    "df_rep_cust['year'] = df_rep_cust['date'].dt.year\n",
    "\n",
    "change_per_quarter = (df_rep_cust.pivot_table( \n",
    "                                  index=['year', 'quarter'], \n",
    "                                  values='order_id', \n",
    "                                  aggfunc='count')\n",
    "                      ).rename(columns={'order_id': 'orders_count'})\n",
    "\n",
    "change_per_quarter = change_per_quarter.reindex(index=multi_index)\n",
    "\n",
    "# Use function to display the difference in percentage between quarters\n",
    "change_per_quarter['pct_change'] = change_per_quarter['orders_count'].pct_change() * 100\n",
    "\n",
    "change_per_quarter"
   ],
   "id": "1101fabef179ef8e",
   "outputs": [
    {
     "data": {
      "text/plain": [
       "              orders_count  pct_change\n",
       "year quarter                          \n",
       "2018 1                 NaN         NaN\n",
       "     2                 NaN         NaN\n",
       "     3                 NaN         NaN\n",
       "     4                 NaN         NaN\n",
       "2019 1                 NaN         NaN\n",
       "     2                 NaN         NaN\n",
       "     3                 NaN         NaN\n",
       "     4                 NaN         NaN\n",
       "2020 1                20.0         NaN\n",
       "     2                30.0        50.0\n",
       "     3                 3.0       -90.0\n",
       "     4                 NaN         0.0"
      ],
      "text/html": [
       "<div>\n",
       "<style scoped>\n",
       "    .dataframe tbody tr th:only-of-type {\n",
       "        vertical-align: middle;\n",
       "    }\n",
       "\n",
       "    .dataframe tbody tr th {\n",
       "        vertical-align: top;\n",
       "    }\n",
       "\n",
       "    .dataframe thead th {\n",
       "        text-align: right;\n",
       "    }\n",
       "</style>\n",
       "<table border=\"1\" class=\"dataframe\">\n",
       "  <thead>\n",
       "    <tr style=\"text-align: right;\">\n",
       "      <th></th>\n",
       "      <th></th>\n",
       "      <th>orders_count</th>\n",
       "      <th>pct_change</th>\n",
       "    </tr>\n",
       "    <tr>\n",
       "      <th>year</th>\n",
       "      <th>quarter</th>\n",
       "      <th></th>\n",
       "      <th></th>\n",
       "    </tr>\n",
       "  </thead>\n",
       "  <tbody>\n",
       "    <tr>\n",
       "      <th rowspan=\"4\" valign=\"top\">2018</th>\n",
       "      <th>1</th>\n",
       "      <td>NaN</td>\n",
       "      <td>NaN</td>\n",
       "    </tr>\n",
       "    <tr>\n",
       "      <th>2</th>\n",
       "      <td>NaN</td>\n",
       "      <td>NaN</td>\n",
       "    </tr>\n",
       "    <tr>\n",
       "      <th>3</th>\n",
       "      <td>NaN</td>\n",
       "      <td>NaN</td>\n",
       "    </tr>\n",
       "    <tr>\n",
       "      <th>4</th>\n",
       "      <td>NaN</td>\n",
       "      <td>NaN</td>\n",
       "    </tr>\n",
       "    <tr>\n",
       "      <th rowspan=\"4\" valign=\"top\">2019</th>\n",
       "      <th>1</th>\n",
       "      <td>NaN</td>\n",
       "      <td>NaN</td>\n",
       "    </tr>\n",
       "    <tr>\n",
       "      <th>2</th>\n",
       "      <td>NaN</td>\n",
       "      <td>NaN</td>\n",
       "    </tr>\n",
       "    <tr>\n",
       "      <th>3</th>\n",
       "      <td>NaN</td>\n",
       "      <td>NaN</td>\n",
       "    </tr>\n",
       "    <tr>\n",
       "      <th>4</th>\n",
       "      <td>NaN</td>\n",
       "      <td>NaN</td>\n",
       "    </tr>\n",
       "    <tr>\n",
       "      <th rowspan=\"4\" valign=\"top\">2020</th>\n",
       "      <th>1</th>\n",
       "      <td>20.0</td>\n",
       "      <td>NaN</td>\n",
       "    </tr>\n",
       "    <tr>\n",
       "      <th>2</th>\n",
       "      <td>30.0</td>\n",
       "      <td>50.0</td>\n",
       "    </tr>\n",
       "    <tr>\n",
       "      <th>3</th>\n",
       "      <td>3.0</td>\n",
       "      <td>-90.0</td>\n",
       "    </tr>\n",
       "    <tr>\n",
       "      <th>4</th>\n",
       "      <td>NaN</td>\n",
       "      <td>0.0</td>\n",
       "    </tr>\n",
       "  </tbody>\n",
       "</table>\n",
       "</div>"
      ]
     },
     "execution_count": 15,
     "metadata": {},
     "output_type": "execute_result"
    }
   ],
   "execution_count": 15
  },
  {
   "metadata": {},
   "cell_type": "markdown",
   "source": "### Comparative analysis of the popularity of product categories in different countries",
   "id": "a008250fd0943e0c"
  },
  {
   "metadata": {
    "ExecuteTime": {
     "end_time": "2024-12-31T19:31:07.812505Z",
     "start_time": "2024-12-31T19:31:07.796686Z"
    }
   },
   "cell_type": "code",
   "source": [
    "# Create a pivot table to analyze the popularity of product categories in different countries\n",
    "cat_pop = (df.pivot_table( \n",
    "                           index=['country', 'category'], \n",
    "                           values='order_id', \n",
    "                           aggfunc='count')\n",
    "                      ).rename(columns={'order_id': 'orders_count'})\n",
    "cat_pop"
   ],
   "id": "4a0a60297602aa0a",
   "outputs": [
    {
     "data": {
      "text/plain": [
       "                         orders_count\n",
       "country category                     \n",
       "Canada  Electronics                12\n",
       "        Home Appliances             1\n",
       "Germany Electronics                12\n",
       "UK      Electronics                12\n",
       "USA     Electronics                24\n",
       "        Home Appliances             2"
      ],
      "text/html": [
       "<div>\n",
       "<style scoped>\n",
       "    .dataframe tbody tr th:only-of-type {\n",
       "        vertical-align: middle;\n",
       "    }\n",
       "\n",
       "    .dataframe tbody tr th {\n",
       "        vertical-align: top;\n",
       "    }\n",
       "\n",
       "    .dataframe thead th {\n",
       "        text-align: right;\n",
       "    }\n",
       "</style>\n",
       "<table border=\"1\" class=\"dataframe\">\n",
       "  <thead>\n",
       "    <tr style=\"text-align: right;\">\n",
       "      <th></th>\n",
       "      <th></th>\n",
       "      <th>orders_count</th>\n",
       "    </tr>\n",
       "    <tr>\n",
       "      <th>country</th>\n",
       "      <th>category</th>\n",
       "      <th></th>\n",
       "    </tr>\n",
       "  </thead>\n",
       "  <tbody>\n",
       "    <tr>\n",
       "      <th rowspan=\"2\" valign=\"top\">Canada</th>\n",
       "      <th>Electronics</th>\n",
       "      <td>12</td>\n",
       "    </tr>\n",
       "    <tr>\n",
       "      <th>Home Appliances</th>\n",
       "      <td>1</td>\n",
       "    </tr>\n",
       "    <tr>\n",
       "      <th>Germany</th>\n",
       "      <th>Electronics</th>\n",
       "      <td>12</td>\n",
       "    </tr>\n",
       "    <tr>\n",
       "      <th>UK</th>\n",
       "      <th>Electronics</th>\n",
       "      <td>12</td>\n",
       "    </tr>\n",
       "    <tr>\n",
       "      <th rowspan=\"2\" valign=\"top\">USA</th>\n",
       "      <th>Electronics</th>\n",
       "      <td>24</td>\n",
       "    </tr>\n",
       "    <tr>\n",
       "      <th>Home Appliances</th>\n",
       "      <td>2</td>\n",
       "    </tr>\n",
       "  </tbody>\n",
       "</table>\n",
       "</div>"
      ]
     },
     "execution_count": 16,
     "metadata": {},
     "output_type": "execute_result"
    }
   ],
   "execution_count": 16
  },
  {
   "metadata": {},
   "cell_type": "markdown",
   "source": "### Calculate the average cost of order of each group",
   "id": "c0b34c5393db63a0"
  },
  {
   "metadata": {},
   "cell_type": "markdown",
   "source": "#### America",
   "id": "81971d984ebceda"
  },
  {
   "metadata": {
    "ExecuteTime": {
     "end_time": "2024-12-31T19:31:07.915486Z",
     "start_time": "2024-12-31T19:31:07.904696Z"
    }
   },
   "cell_type": "code",
   "source": [
    "(\n",
    " df_america.groupby(['us_group'])['purchase_value']\n",
    "        .mean()\n",
    "        .rename(\"mean_pv\")\n",
    ")"
   ],
   "id": "8d9d9f0a76a4dbc0",
   "outputs": [
    {
     "data": {
      "text/plain": [
       "us_group\n",
       "low         80.000000\n",
       "medium     316.666667\n",
       "high      1000.000000\n",
       "Name: mean_pv, dtype: float64"
      ]
     },
     "execution_count": 17,
     "metadata": {},
     "output_type": "execute_result"
    }
   ],
   "execution_count": 17
  },
  {
   "metadata": {},
   "cell_type": "markdown",
   "source": "#### Europe",
   "id": "30fa1f0eb6373b88"
  },
  {
   "metadata": {
    "ExecuteTime": {
     "end_time": "2024-12-31T19:31:08.082859Z",
     "start_time": "2024-12-31T19:31:08.068330Z"
    }
   },
   "cell_type": "code",
   "source": [
    "(\n",
    " df_europe.groupby(['eu_group'])['purchase_value']\n",
    "          .mean()\n",
    "          .rename(\"mean_pv\")\n",
    ")"
   ],
   "id": "3fb3edffdd57d9a9",
   "outputs": [
    {
     "data": {
      "text/plain": [
       "eu_group\n",
       "low        40.0\n",
       "medium    175.0\n",
       "high      450.0\n",
       "Name: mean_pv, dtype: float64"
      ]
     },
     "execution_count": 18,
     "metadata": {},
     "output_type": "execute_result"
    }
   ],
   "execution_count": 18
  },
  {
   "metadata": {},
   "cell_type": "markdown",
   "source": "### Calculate the percentage of returning customers in each group",
   "id": "bbdb9f960edda5d8"
  },
  {
   "metadata": {},
   "cell_type": "markdown",
   "source": "#### America",
   "id": "6b52f5c225cfaf38"
  },
  {
   "metadata": {
    "ExecuteTime": {
     "end_time": "2024-12-31T19:31:08.164532Z",
     "start_time": "2024-12-31T19:31:08.148370Z"
    }
   },
   "cell_type": "code",
   "source": [
    "(\n",
    " df_america.groupby(['us_group'])['is_returning_customer'] \n",
    "          .mean() * 100\n",
    "         ).rename(\"pct_rc\").round(2)"
   ],
   "id": "20ddda67e73abe72",
   "outputs": [
    {
     "data": {
      "text/plain": [
       "us_group\n",
       "low       75.00\n",
       "medium    94.44\n",
       "high      77.78\n",
       "Name: pct_rc, dtype: float64"
      ]
     },
     "execution_count": 19,
     "metadata": {},
     "output_type": "execute_result"
    }
   ],
   "execution_count": 19
  },
  {
   "metadata": {},
   "cell_type": "markdown",
   "source": "#### Europe",
   "id": "bb0e4cfccfe1dc17"
  },
  {
   "metadata": {
    "ExecuteTime": {
     "end_time": "2024-12-31T19:31:08.289928Z",
     "start_time": "2024-12-31T19:31:08.275315Z"
    }
   },
   "cell_type": "code",
   "source": [
    "(\n",
    " df_europe.groupby(['eu_group'])['is_returning_customer'] \n",
    "          .mean() * 100\n",
    "         ).rename(\"pct_rc\").round(2)"
   ],
   "id": "42cc20b9abffd4e9",
   "outputs": [
    {
     "data": {
      "text/plain": [
       "eu_group\n",
       "low        66.67\n",
       "medium     83.33\n",
       "high      100.00\n",
       "Name: pct_rc, dtype: float64"
      ]
     },
     "execution_count": 20,
     "metadata": {},
     "output_type": "execute_result"
    }
   ],
   "execution_count": 20
  },
  {
   "metadata": {},
   "cell_type": "markdown",
   "source": "### Calculate the categories of products that are most popular with users of each group",
   "id": "1012bd47e65ced98"
  },
  {
   "metadata": {
    "ExecuteTime": {
     "end_time": "2024-12-31T19:31:08.369139Z",
     "start_time": "2024-12-31T19:31:08.356904Z"
    }
   },
   "cell_type": "code",
   "source": [
    "# Write a function to display the most popular category within the groups\n",
    "def calc_cat_pop(df, group_columns, count_column):\n",
    "    return (\n",
    "        df.groupby(group_columns)[count_column]\n",
    "          .count()\n",
    "          .rename('orders_count')\n",
    "    )\n",
    "\n",
    "# Write a function to display the most popular products within the groups\n",
    "def calc_prod_pop(df, group_columns, count_column):\n",
    "    return (\n",
    "        df.groupby(group_columns)[count_column]\n",
    "          .count()\n",
    "          .rename('orders_count')\n",
    "          .sort_values(ascending=False)\n",
    "          .sort_index(level=0, sort_remaining=False)\n",
    "    )"
   ],
   "id": "bbbb8c90fe2d4de4",
   "outputs": [],
   "execution_count": 21
  },
  {
   "metadata": {},
   "cell_type": "markdown",
   "source": "#### America",
   "id": "d4979913e9116415"
  },
  {
   "metadata": {
    "ExecuteTime": {
     "end_time": "2024-12-31T19:31:08.501962Z",
     "start_time": "2024-12-31T19:31:08.487948Z"
    }
   },
   "cell_type": "code",
   "source": [
    "# The most popular categories\n",
    "am_cat_pop = calc_cat_pop(df_america, ['us_group', 'category'], 'order_id')\n",
    "\n",
    "am_cat_pop"
   ],
   "id": "c91b0d9d149f2a4c",
   "outputs": [
    {
     "data": {
      "text/plain": [
       "us_group  category       \n",
       "low       Electronics         9\n",
       "          Home Appliances     3\n",
       "medium    Electronics        18\n",
       "          Home Appliances     0\n",
       "high      Electronics         9\n",
       "          Home Appliances     0\n",
       "Name: orders_count, dtype: int64"
      ]
     },
     "execution_count": 22,
     "metadata": {},
     "output_type": "execute_result"
    }
   ],
   "execution_count": 22
  },
  {
   "metadata": {
    "ExecuteTime": {
     "end_time": "2024-12-31T19:31:08.549726Z",
     "start_time": "2024-12-31T19:31:08.538208Z"
    }
   },
   "cell_type": "code",
   "source": [
    "# The most popular products\n",
    "am_prod_pop = calc_prod_pop(df_america, ['us_group', 'product_name'], 'order_id')\n",
    "\n",
    "am_prod_pop"
   ],
   "id": "a08090a0a897d9bf",
   "outputs": [
    {
     "data": {
      "text/plain": [
       "us_group  product_name \n",
       "low       Keyboard         3\n",
       "          Mouse            3\n",
       "          Speaker          3\n",
       "          Toaster          1\n",
       "          Blender          1\n",
       "          Coffee Maker     1\n",
       "          Action Camera    0\n",
       "          Tablet           0\n",
       "          TV               0\n",
       "          Smartwatch       0\n",
       "          Smartphone       0\n",
       "          Projector        0\n",
       "          Laptop           0\n",
       "          Game Console     0\n",
       "          Camera           0\n",
       "medium    Camera           3\n",
       "          Action Camera    3\n",
       "          Smartwatch       3\n",
       "          Tablet           3\n",
       "          Game Console     3\n",
       "          Projector        3\n",
       "          Toaster          0\n",
       "          Mouse            0\n",
       "          TV               0\n",
       "          Speaker          0\n",
       "          Smartphone       0\n",
       "          Laptop           0\n",
       "          Keyboard         0\n",
       "          Coffee Maker     0\n",
       "          Blender          0\n",
       "high      Smartphone       3\n",
       "          Laptop           3\n",
       "          TV               3\n",
       "          Blender          0\n",
       "          Camera           0\n",
       "          Action Camera    0\n",
       "          Coffee Maker     0\n",
       "          Game Console     0\n",
       "          Keyboard         0\n",
       "          Mouse            0\n",
       "          Projector        0\n",
       "          Smartwatch       0\n",
       "          Speaker          0\n",
       "          Tablet           0\n",
       "          Toaster          0\n",
       "Name: orders_count, dtype: int64"
      ]
     },
     "execution_count": 23,
     "metadata": {},
     "output_type": "execute_result"
    }
   ],
   "execution_count": 23
  },
  {
   "metadata": {},
   "cell_type": "markdown",
   "source": "#### Europe",
   "id": "91df447ddb942e5b"
  },
  {
   "metadata": {
    "ExecuteTime": {
     "end_time": "2024-12-31T19:31:08.645459Z",
     "start_time": "2024-12-31T19:31:08.629353Z"
    }
   },
   "cell_type": "code",
   "source": [
    "# The most popular categories\n",
    "eu_cat_pop = calc_cat_pop(df_europe, ['eu_group', 'category'], 'order_id')\n",
    "\n",
    "eu_cat_pop"
   ],
   "id": "333fd4c57c69d9c",
   "outputs": [
    {
     "data": {
      "text/plain": [
       "eu_group  category   \n",
       "low       Electronics     6\n",
       "medium    Electronics    12\n",
       "high      Electronics     6\n",
       "Name: orders_count, dtype: int64"
      ]
     },
     "execution_count": 24,
     "metadata": {},
     "output_type": "execute_result"
    }
   ],
   "execution_count": 24
  },
  {
   "metadata": {
    "ExecuteTime": {
     "end_time": "2024-12-31T19:31:08.731382Z",
     "start_time": "2024-12-31T19:31:08.716845Z"
    }
   },
   "cell_type": "code",
   "source": [
    "# The most popular products\n",
    "eu_prod_pop = calc_prod_pop(df_europe, ['eu_group', 'product_name'], 'order_id')\n",
    "\n",
    "eu_prod_pop"
   ],
   "id": "b8d79a1f6b32c701",
   "outputs": [
    {
     "data": {
      "text/plain": [
       "eu_group  product_name   \n",
       "low       Charger            3\n",
       "          Webcam             3\n",
       "          VR Headset         0\n",
       "          Monitor            0\n",
       "          Drone              0\n",
       "          Headphones         0\n",
       "          Gaming Headset     0\n",
       "          Fitness Tracker    0\n",
       "medium    Monitor            3\n",
       "          Gaming Headset     3\n",
       "          Fitness Tracker    3\n",
       "          Headphones         3\n",
       "          Charger            0\n",
       "          Drone              0\n",
       "          VR Headset         0\n",
       "          Webcam             0\n",
       "high      VR Headset         3\n",
       "          Drone              3\n",
       "          Charger            0\n",
       "          Fitness Tracker    0\n",
       "          Gaming Headset     0\n",
       "          Headphones         0\n",
       "          Monitor            0\n",
       "          Webcam             0\n",
       "Name: orders_count, dtype: int64"
      ]
     },
     "execution_count": 25,
     "metadata": {},
     "output_type": "execute_result"
    }
   ],
   "execution_count": 25
  },
  {
   "metadata": {},
   "cell_type": "markdown",
   "source": "### Create a plot with the number of orders of returning customers per quarter",
   "id": "dbb73f43322d8243"
  },
  {
   "metadata": {
    "ExecuteTime": {
     "end_time": "2024-12-31T19:31:09.193886Z",
     "start_time": "2024-12-31T19:31:08.866626Z"
    }
   },
   "cell_type": "code",
   "source": "change_per_quarter['orders_count'].plot(kind='line', stacked=True)",
   "id": "a7910326075eea03",
   "outputs": [
    {
     "data": {
      "text/plain": [
       "<AxesSubplot:xlabel='year,quarter'>"
      ]
     },
     "execution_count": 26,
     "metadata": {},
     "output_type": "execute_result"
    },
    {
     "data": {
      "text/plain": [
       "<Figure size 640x480 with 1 Axes>"
      ],
      "image/png": "[encoded data removed]"
     },
     "metadata": {},
     "output_type": "display_data"
    }
   ],
   "execution_count": 26
  },
  {
   "metadata": {},
   "cell_type": "markdown",
   "source": "### Create a diagram with the popularity of product categories in different countries",
   "id": "d702869d88ee31c3"
  },
  {
   "metadata": {
    "ExecuteTime": {
     "end_time": "2024-12-31T19:31:09.274566Z",
     "start_time": "2024-12-31T19:31:09.260431Z"
    }
   },
   "cell_type": "code",
   "source": [
    "# Write a function to display a bar plot divided into groups by a color\n",
    "def plot(df, column, x, xlabel):\n",
    "    colors = {'low': 'blue', 'medium': 'orange', 'high': 'green'}\n",
    "    df = df.reset_index()\n",
    "    df['color'] = df[column].map(colors)\n",
    "    fig = df.plot(kind='bar',\n",
    "                  x=x,\n",
    "                  y='orders_count',\n",
    "                  stacked=True, \n",
    "                  figsize=(12,8), \n",
    "                  xlabel=xlabel, \n",
    "                  ylabel='order_count',\n",
    "                  color=df['color'])\n",
    "    return fig"
   ],
   "id": "f62c72968470a70f",
   "outputs": [],
   "execution_count": 27
  },
  {
   "metadata": {},
   "cell_type": "markdown",
   "source": "#### America",
   "id": "82e52b5a0f8eb4db"
  },
  {
   "metadata": {
    "ExecuteTime": {
     "end_time": "2024-12-31T19:31:09.414808Z",
     "start_time": "2024-12-31T19:31:09.295710Z"
    }
   },
   "cell_type": "code",
   "source": [
    "# A bar plot with the most popular categories\n",
    "plot(am_cat_pop, 'us_group', 'category', 'group, category')"
   ],
   "id": "53f46ab5be5ab4cd",
   "outputs": [
    {
     "data": {
      "text/plain": [
       "<AxesSubplot:xlabel='group, category', ylabel='order_count'>"
      ]
     },
     "execution_count": 28,
     "metadata": {},
     "output_type": "execute_result"
    },
    {
     "data": {
      "text/plain": [
       "<Figure size 1200x800 with 1 Axes>"
      ],
      "image/png": "[encoded data removed]"
     },
     "metadata": {},
     "output_type": "display_data"
    }
   ],
   "execution_count": 28
  },
  {
   "metadata": {
    "ExecuteTime": {
     "end_time": "2024-12-31T19:31:09.757833Z",
     "start_time": "2024-12-31T19:31:09.478361Z"
    }
   },
   "cell_type": "code",
   "source": [
    "# A bar plot with the most popular products\n",
    "plot(am_prod_pop, 'us_group', 'product_name', 'group, name')"
   ],
   "id": "19c5e21148cbea92",
   "outputs": [
    {
     "data": {
      "text/plain": [
       "<AxesSubplot:xlabel='group, name', ylabel='order_count'>"
      ]
     },
     "execution_count": 29,
     "metadata": {},
     "output_type": "execute_result"
    },
    {
     "data": {
      "text/plain": [
       "<Figure size 1200x800 with 1 Axes>"
      ],
      "image/png": "[encoded data removed]"
     },
     "metadata": {},
     "output_type": "display_data"
    }
   ],
   "execution_count": 29
  },
  {
   "metadata": {},
   "cell_type": "markdown",
   "source": "#### Europe",
   "id": "1760e2ad12bc4b0f"
  },
  {
   "metadata": {
    "ExecuteTime": {
     "end_time": "2024-12-31T19:31:09.858317Z",
     "start_time": "2024-12-31T19:31:09.757833Z"
    }
   },
   "cell_type": "code",
   "source": [
    "# A bar plot with the most popular categories\n",
    "plot(eu_cat_pop, 'eu_group', 'category', 'group, category')"
   ],
   "id": "95c190d2abb2b962",
   "outputs": [
    {
     "data": {
      "text/plain": [
       "<AxesSubplot:xlabel='group, category', ylabel='order_count'>"
      ]
     },
     "execution_count": 30,
     "metadata": {},
     "output_type": "execute_result"
    },
    {
     "data": {
      "text/plain": [
       "<Figure size 1200x800 with 1 Axes>"
      ],
      "image/png": "[encoded data removed]"
     },
     "metadata": {},
     "output_type": "display_data"
    }
   ],
   "execution_count": 30
  },
  {
   "metadata": {
    "ExecuteTime": {
     "end_time": "2024-12-31T19:31:10.082333Z",
     "start_time": "2024-12-31T19:31:09.887845Z"
    }
   },
   "cell_type": "code",
   "source": [
    "# A bar plot with the most popular products\n",
    "plot(eu_prod_pop, 'eu_group', 'product_name', 'group, name')"
   ],
   "id": "d9d170ee7ccd1a0f",
   "outputs": [
    {
     "data": {
      "text/plain": [
       "<AxesSubplot:xlabel='group, name', ylabel='order_count'>"
      ]
     },
     "execution_count": 31,
     "metadata": {},
     "output_type": "execute_result"
    },
    {
     "data": {
      "text/plain": [
       "<Figure size 1200x800 with 1 Axes>"
      ],
      "image/png": "[encoded data removed]"
     },
     "metadata": {},
     "output_type": "display_data"
    }
   ],
   "execution_count": 31
  }
 ],
 "metadata": {
  "kernelspec": {
   "display_name": "Python 3",
   "language": "python",
   "name": "python3"
  },
  "language_info": {
   "codemirror_mode": {
    "name": "ipython",
    "version": 2
   },
   "file_extension": ".py",
   "mimetype": "text/x-python",
   "name": "python",
   "nbconvert_exporter": "python",
   "pygments_lexer": "ipython2",
   "version": "2.7.6"
  }
 },
 "nbformat": 4,
 "nbformat_minor": 5
}
